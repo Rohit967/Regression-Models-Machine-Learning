{
 "cells": [
  {
   "cell_type": "markdown",
   "metadata": {},
   "source": [
    "The malware industry continues to be a well-organized, well-funded market dedicated to evading traditional security measures. Once a computer is infected by malware, criminals can hurt consumers and enterprises in many ways. As one part of their overall strategy for doing so, Microsoft is challenging the data science community to develop techniques to predict if a machine will soon be hit with malware.\n",
    "\n",
    "Can you help protect 10000 machines from damage BEFORE it happens?"
   ]
  },
  {
   "cell_type": "code",
   "execution_count": 45,
   "metadata": {},
   "outputs": [],
   "source": [
    "import pandas as pd\n",
    "malware=pd.read_csv(\"malware.csv\")"
   ]
  },
  {
   "cell_type": "markdown",
   "metadata": {},
   "source": [
    "## Step 2: Please preprocess your dataset"
   ]
  },
  {
   "cell_type": "markdown",
   "metadata": {},
   "source": [
    "<p>The last column <mark>'HasDetections'</mark> is the response</p>"
   ]
  },
  {
   "cell_type": "markdown",
   "metadata": {},
   "source": [
    "Type Markdown and LaTeX:  𝛼2"
   ]
  },
  {
   "cell_type": "code",
   "execution_count": 46,
   "metadata": {},
   "outputs": [
    {
     "name": "stdout",
     "output_type": "stream",
     "text": [
      "(10000, 18)\n"
     ]
    }
   ],
   "source": [
    "### Check the shape of the malware dataset\n",
    "print(malware.shape)"
   ]
  },
  {
   "cell_type": "code",
   "execution_count": 47,
   "metadata": {},
   "outputs": [
    {
     "name": "stdout",
     "output_type": "stream",
     "text": [
      "   Unnamed: 0  Unnamed: 0.1   ProductName  AVProductStatesIdentifier  HasTpm  \\\n",
      "0           0             0  win8defender                    53447.0       1   \n",
      "1           1             1  win8defender                    53447.0       1   \n",
      "2           2             2  win8defender                    53447.0       1   \n",
      "\n",
      "   CountryIdentifier  LocaleEnglishNameIdentifier   Platform Processor  \\\n",
      "0                 29                          171  windows10       x64   \n",
      "1                 93                           64  windows10       x64   \n",
      "2                 86                           49  windows10       x64   \n",
      "\n",
      "   Firewall  Census_HasOpticalDiskDrive  Census_IsSecureBootEnabled  \\\n",
      "0       1.0                           0                           0   \n",
      "1       1.0                           0                           0   \n",
      "2       1.0                           0                           0   \n",
      "\n",
      "   Census_IsVirtualDevice  Census_IsTouchEnabled  Census_IsPenCapable  \\\n",
      "0                     0.0                      0                    0   \n",
      "1                     0.0                      0                    0   \n",
      "2                     0.0                      0                    0   \n",
      "\n",
      "   Wdft_IsGamer  IsProtected  HasDetections  \n",
      "0           0.0          1.0              0  \n",
      "1           0.0          1.0              0  \n",
      "2           0.0          1.0              0  \n"
     ]
    }
   ],
   "source": [
    "# Check the data in the malware dataset\n",
    "print(malware.head(3))"
   ]
  },
  {
   "cell_type": "code",
   "execution_count": 48,
   "metadata": {},
   "outputs": [
    {
     "name": "stdout",
     "output_type": "stream",
     "text": [
      "Index(['Unnamed: 0', 'Unnamed: 0.1', 'ProductName',\n",
      "       'AVProductStatesIdentifier', 'HasTpm', 'CountryIdentifier',\n",
      "       'LocaleEnglishNameIdentifier', 'Platform', 'Processor', 'Firewall',\n",
      "       'Census_HasOpticalDiskDrive', 'Census_IsSecureBootEnabled',\n",
      "       'Census_IsVirtualDevice', 'Census_IsTouchEnabled',\n",
      "       'Census_IsPenCapable', 'Wdft_IsGamer', 'IsProtected', 'HasDetections'],\n",
      "      dtype='object')\n"
     ]
    }
   ],
   "source": [
    "# Print the columns in the dataset\n",
    "print(malware.columns)"
   ]
  },
  {
   "cell_type": "code",
   "execution_count": 49,
   "metadata": {},
   "outputs": [
    {
     "name": "stdout",
     "output_type": "stream",
     "text": [
      "Unnamed: 0                     0\n",
      "Unnamed: 0.1                   0\n",
      "ProductName                    0\n",
      "AVProductStatesIdentifier      0\n",
      "HasTpm                         0\n",
      "CountryIdentifier              0\n",
      "LocaleEnglishNameIdentifier    0\n",
      "Platform                       0\n",
      "Processor                      0\n",
      "Firewall                       0\n",
      "Census_HasOpticalDiskDrive     0\n",
      "Census_IsSecureBootEnabled     0\n",
      "Census_IsVirtualDevice         0\n",
      "Census_IsTouchEnabled          0\n",
      "Census_IsPenCapable            0\n",
      "Wdft_IsGamer                   0\n",
      "IsProtected                    0\n",
      "HasDetections                  0\n",
      "dtype: int64\n"
     ]
    }
   ],
   "source": [
    "# Check if there any null values in the malware\n",
    "print(malware.isnull().sum())"
   ]
  },
  {
   "cell_type": "code",
   "execution_count": 50,
   "metadata": {},
   "outputs": [
    {
     "name": "stdout",
     "output_type": "stream",
     "text": [
      "Unnamed: 0                       int64\n",
      "Unnamed: 0.1                     int64\n",
      "ProductName                     object\n",
      "AVProductStatesIdentifier      float64\n",
      "HasTpm                           int64\n",
      "CountryIdentifier                int64\n",
      "LocaleEnglishNameIdentifier      int64\n",
      "Platform                        object\n",
      "Processor                       object\n",
      "Firewall                       float64\n",
      "Census_HasOpticalDiskDrive       int64\n",
      "Census_IsSecureBootEnabled       int64\n",
      "Census_IsVirtualDevice         float64\n",
      "Census_IsTouchEnabled            int64\n",
      "Census_IsPenCapable              int64\n",
      "Wdft_IsGamer                   float64\n",
      "IsProtected                    float64\n",
      "HasDetections                    int64\n",
      "dtype: object\n"
     ]
    }
   ],
   "source": [
    "# Check the datatypes of the dataset\n",
    "print(malware.dtypes)"
   ]
  },
  {
   "cell_type": "code",
   "execution_count": 51,
   "metadata": {},
   "outputs": [
    {
     "name": "stdout",
     "output_type": "stream",
     "text": [
      "   Unnamed: 0  Unnamed: 0.1   ProductName  AVProductStatesIdentifier  HasTpm  \\\n",
      "0           0             0  win8defender                    53447.0       1   \n",
      "1           1             1  win8defender                    53447.0       1   \n",
      "2           2             2  win8defender                    53447.0       1   \n",
      "3           3             3  win8defender                    53447.0       1   \n",
      "4           4             4  win8defender                    53447.0       1   \n",
      "5           5             5  win8defender                    53447.0       1   \n",
      "6           6             6  win8defender                    43927.0       1   \n",
      "7           7             7  win8defender                    53447.0       1   \n",
      "8           8             8  win8defender                    53447.0       1   \n",
      "9           9             9  win8defender                    46413.0       1   \n",
      "\n",
      "   CountryIdentifier  LocaleEnglishNameIdentifier   Platform Processor  \\\n",
      "0                 29                          171  windows10       x64   \n",
      "1                 93                           64  windows10       x64   \n",
      "2                 86                           49  windows10       x64   \n",
      "3                 88                          115  windows10       x64   \n",
      "4                 18                           75  windows10       x64   \n",
      "5                 97                          124  windows10       x64   \n",
      "6                 78                           88  windows10       x64   \n",
      "7                 97                          124  windows10       x64   \n",
      "8                164                          172  windows10       x64   \n",
      "9                 93                           64  windows10       x64   \n",
      "\n",
      "   Firewall  Census_HasOpticalDiskDrive  Census_IsSecureBootEnabled  \\\n",
      "0       1.0                           0                           0   \n",
      "1       1.0                           0                           0   \n",
      "2       1.0                           0                           0   \n",
      "3       1.0                           0                           0   \n",
      "4       1.0                           0                           0   \n",
      "5       1.0                           0                           0   \n",
      "6       1.0                           0                           1   \n",
      "7       1.0                           1                           0   \n",
      "8       1.0                           0                           0   \n",
      "9       1.0                           1                           1   \n",
      "\n",
      "   Census_IsVirtualDevice  Census_IsTouchEnabled  Census_IsPenCapable  \\\n",
      "0                     0.0                      0                    0   \n",
      "1                     0.0                      0                    0   \n",
      "2                     0.0                      0                    0   \n",
      "3                     0.0                      0                    0   \n",
      "4                     0.0                      0                    0   \n",
      "5                     0.0                      0                    0   \n",
      "6                     0.0                      0                    0   \n",
      "7                     0.0                      0                    0   \n",
      "8                     0.0                      0                    0   \n",
      "9                     0.0                      0                    0   \n",
      "\n",
      "   Wdft_IsGamer  IsProtected  HasDetections  \n",
      "0           0.0          1.0              0  \n",
      "1           0.0          1.0              0  \n",
      "2           0.0          1.0              0  \n",
      "3           0.0          1.0              1  \n",
      "4           0.0          1.0              1  \n",
      "5           0.0          1.0              1  \n",
      "6           0.0          1.0              1  \n",
      "7           0.0          1.0              0  \n",
      "8           0.0          1.0              0  \n",
      "9           1.0          1.0              1  \n"
     ]
    }
   ],
   "source": [
    "# Check the info of the malware\n",
    "print(malware.head(10))"
   ]
  },
  {
   "cell_type": "code",
   "execution_count": 52,
   "metadata": {},
   "outputs": [
    {
     "name": "stdout",
     "output_type": "stream",
     "text": [
      "Unnamed: 0                     10000\n",
      "Unnamed: 0.1                   10000\n",
      "ProductName                        2\n",
      "AVProductStatesIdentifier        493\n",
      "HasTpm                             2\n",
      "CountryIdentifier                199\n",
      "LocaleEnglishNameIdentifier      137\n",
      "Platform                           3\n",
      "Processor                          3\n",
      "Firewall                           2\n",
      "Census_HasOpticalDiskDrive         2\n",
      "Census_IsSecureBootEnabled         2\n",
      "Census_IsVirtualDevice             2\n",
      "Census_IsTouchEnabled              2\n",
      "Census_IsPenCapable                2\n",
      "Wdft_IsGamer                       2\n",
      "IsProtected                        2\n",
      "HasDetections                      2\n",
      "dtype: int64\n"
     ]
    }
   ],
   "source": [
    "# Check the unique values in the dataset\n",
    "print(malware.nunique())"
   ]
  },
  {
   "cell_type": "code",
   "execution_count": 53,
   "metadata": {},
   "outputs": [],
   "source": [
    "# As there no null values and no data type conversions in the malware dataset. \n",
    "# Continuing further to drop the features as there not giving any information\n",
    "malware.drop([\"Unnamed: 0\",\"Unnamed: 0.1\"],axis=1,inplace=True)"
   ]
  },
  {
   "cell_type": "code",
   "execution_count": 54,
   "metadata": {},
   "outputs": [
    {
     "data": {
      "text/plain": [
       "Index(['ProductName', 'AVProductStatesIdentifier', 'HasTpm',\n",
       "       'CountryIdentifier', 'LocaleEnglishNameIdentifier', 'Platform',\n",
       "       'Processor', 'Firewall', 'Census_HasOpticalDiskDrive',\n",
       "       'Census_IsSecureBootEnabled', 'Census_IsVirtualDevice',\n",
       "       'Census_IsTouchEnabled', 'Census_IsPenCapable', 'Wdft_IsGamer',\n",
       "       'IsProtected', 'HasDetections'],\n",
       "      dtype='object')"
      ]
     },
     "execution_count": 54,
     "metadata": {},
     "output_type": "execute_result"
    }
   ],
   "source": [
    "malware.columns"
   ]
  },
  {
   "cell_type": "code",
   "execution_count": 55,
   "metadata": {},
   "outputs": [
    {
     "data": {
      "text/plain": [
       "Index(['AVProductStatesIdentifier', 'HasTpm', 'CountryIdentifier',\n",
       "       'LocaleEnglishNameIdentifier', 'Firewall', 'Census_HasOpticalDiskDrive',\n",
       "       'Census_IsSecureBootEnabled', 'Census_IsVirtualDevice',\n",
       "       'Census_IsTouchEnabled', 'Census_IsPenCapable', 'Wdft_IsGamer',\n",
       "       'IsProtected', 'HasDetections', 'ProductName_mse',\n",
       "       'ProductName_win8defender', 'Platform_windows10', 'Platform_windows7',\n",
       "       'Platform_windows8', 'Processor_arm64', 'Processor_x64',\n",
       "       'Processor_x86'],\n",
       "      dtype='object')"
      ]
     },
     "execution_count": 55,
     "metadata": {},
     "output_type": "execute_result"
    }
   ],
   "source": [
    "# As we have the train the model in the numeric format convert all the data in the string to the numeric format.\n",
    "# For this use the encoding techniques. Use the one hot encoding for the ProductName, Platform and Processor\n",
    "malware_prod_enc=pd.get_dummies(malware,columns=[\"ProductName\",\"Platform\",\"Processor\"])\n",
    "malware=pd.concat([malware_prod_enc],axis=1)\n",
    "malware.columns"
   ]
  },
  {
   "cell_type": "code",
   "execution_count": 56,
   "metadata": {},
   "outputs": [
    {
     "name": "stdout",
     "output_type": "stream",
     "text": [
      "493\n"
     ]
    }
   ],
   "source": [
    "print(malware.AVProductStatesIdentifier.nunique())"
   ]
  },
  {
   "cell_type": "code",
   "execution_count": 57,
   "metadata": {},
   "outputs": [
    {
     "name": "stdout",
     "output_type": "stream",
     "text": [
      "HasDetections                  1.000000\n",
      "AVProductStatesIdentifier      0.119497\n",
      "IsProtected                    0.066309\n",
      "Processor_x64                  0.066173\n",
      "Wdft_IsGamer                   0.046779\n",
      "LocaleEnglishNameIdentifier    0.030183\n",
      "ProductName_win8defender       0.019231\n",
      "Census_HasOpticalDiskDrive     0.010411\n",
      "Platform_windows10             0.008013\n",
      "Firewall                       0.003206\n",
      "HasTpm                         0.002542\n",
      "Census_IsSecureBootEnabled    -0.003242\n",
      "Census_IsPenCapable           -0.003655\n",
      "Platform_windows8             -0.003940\n",
      "CountryIdentifier             -0.008076\n",
      "Processor_arm64               -0.014254\n",
      "ProductName_mse               -0.019231\n",
      "Platform_windows7             -0.019231\n",
      "Census_IsTouchEnabled         -0.052119\n",
      "Census_IsVirtualDevice        -0.055882\n",
      "Processor_x86                 -0.065533\n",
      "Name: HasDetections, dtype: float64\n"
     ]
    }
   ],
   "source": [
    "# Check the variance and the correlation\n",
    "temp_corr=malware.corr()\n",
    "print(temp_corr[\"HasDetections\"].sort_values(ascending=False))"
   ]
  },
  {
   "cell_type": "code",
   "execution_count": 58,
   "metadata": {},
   "outputs": [
    {
     "data": {
      "image/png": "[encoded data removed]",
      "text/plain": [
       "<Figure size 1584x1512 with 2 Axes>"
      ]
     },
     "metadata": {
      "needs_background": "light"
     },
     "output_type": "display_data"
    }
   ],
   "source": [
    "# To check how columns are interdependent on one another we can use the heatmap\n",
    "import numpy as np\n",
    "import matplotlib.pyplot as plt\n",
    "corr = malware.corr()\n",
    "fig = plt.figure(figsize=(22,21))\n",
    "ax = fig.add_subplot(111)\n",
    "ax.grid(True)\n",
    "cax = ax.matshow(corr,cmap='coolwarm', vmin=-1, vmax=1)\n",
    "fig.colorbar(cax)\n",
    "ticks = np.arange(0,len(corr),1)\n",
    "ax.set_xticks(ticks)\n",
    "plt.xticks(rotation=90)\n",
    "ax.set_yticks(ticks)\n",
    "ax.set_xticklabels(corr.columns)\n",
    "ax.set_yticklabels(corr.columns)\n",
    "plt.show()"
   ]
  },
  {
   "cell_type": "code",
   "execution_count": 59,
   "metadata": {},
   "outputs": [],
   "source": [
    "# From the graph found that the Census_IsPenCapable and the Census_IsTouchEnabled so drop one column\n",
    "to_drop=[\"Census_IsTouchEnabled\",\"Census_IsVirtualDevice\"]\n",
    "malware.drop(to_drop,axis=1,inplace=True)"
   ]
  },
  {
   "cell_type": "markdown",
   "metadata": {},
   "source": [
    "## Step 3: Split your dataset into Training data and Test data"
   ]
  },
  {
   "cell_type": "code",
   "execution_count": 60,
   "metadata": {},
   "outputs": [],
   "source": [
    "X = malware.drop([\"HasDetections\"],axis = 1)\n",
    "y = malware[\"HasDetections\"]\n",
    "from sklearn.model_selection import train_test_split \n",
    "train_X, test_X, train_y, test_y = train_test_split(X, y,test_size=0.3,stratify=y)"
   ]
  },
  {
   "cell_type": "code",
   "execution_count": 61,
   "metadata": {},
   "outputs": [
    {
     "name": "stdout",
     "output_type": "stream",
     "text": [
      "0.6717142857142857\n"
     ]
    }
   ],
   "source": [
    "from sklearn.neighbors import KNeighborsClassifier\n",
    "knn = KNeighborsClassifier(n_neighbors=5)\n",
    "# Fit knn to the training sets\n",
    "knn.fit(train_X, train_y)\n",
    "# Print the score of knn on the train sets\n",
    "print(knn.score(train_X, train_y))"
   ]
  },
  {
   "cell_type": "markdown",
   "metadata": {},
   "source": [
    "## Step 4: Analyze the data with three different models"
   ]
  },
  {
   "cell_type": "markdown",
   "metadata": {},
   "source": [
    "### Model 1 implementing the KNN:"
   ]
  },
  {
   "cell_type": "code",
   "execution_count": 70,
   "metadata": {},
   "outputs": [],
   "source": [
    "from sklearn.metrics import confusion_matrix\n",
    "from sklearn.metrics import classification_report"
   ]
  },
  {
   "cell_type": "code",
   "execution_count": 80,
   "metadata": {},
   "outputs": [
    {
     "name": "stdout",
     "output_type": "stream",
     "text": [
      "================\n",
      "Confusion Matrix\n",
      "================\n",
      "[[790 698]\n",
      " [646 866]]\n"
     ]
    }
   ],
   "source": [
    "# Predicting the Test set results\n",
    "y_pred = knn.predict(test_X)\n",
    "# Making the Confusion Matrix\n",
    "#Print the confusion Matirx\n",
    "cm = confusion_matrix(test_y, y_pred)\n",
    "print(\"================\")\n",
    "print(\"Confusion Matrix\")\n",
    "print(\"================\")\n",
    "print(cm)"
   ]
  },
  {
   "cell_type": "code",
   "execution_count": 79,
   "metadata": {},
   "outputs": [
    {
     "name": "stdout",
     "output_type": "stream",
     "text": [
      "=======\n",
      "Reports\n",
      "=======\n",
      "              precision    recall  f1-score   support\n",
      "\n",
      "           0       0.52      0.53      0.52      1488\n",
      "           1       0.53      0.53      0.53      1512\n",
      "\n",
      "   micro avg       0.53      0.53      0.53      3000\n",
      "   macro avg       0.53      0.53      0.53      3000\n",
      "weighted avg       0.53      0.53      0.53      3000\n",
      "\n"
     ]
    }
   ],
   "source": [
    "print(\"=======\")\n",
    "print(\"Reports\")\n",
    "print(\"=======\")\n",
    "report = classification_report(test_y, y_pred)\n",
    "print(report)"
   ]
  },
  {
   "cell_type": "markdown",
   "metadata": {},
   "source": [
    "### Model 2 implementing the Decision Tree:"
   ]
  },
  {
   "cell_type": "code",
   "execution_count": 78,
   "metadata": {},
   "outputs": [
    {
     "name": "stdout",
     "output_type": "stream",
     "text": [
      "================\n",
      "Confusion Matrix\n",
      "================\n",
      "[[782 706]\n",
      " [711 801]]\n"
     ]
    }
   ],
   "source": [
    "from sklearn.tree import DecisionTreeClassifier\n",
    "clf_dt = DecisionTreeClassifier()\n",
    "clf_dt.fit(train_X, train_y)\n",
    "# Predicting the test set\n",
    "y_pred = clf_dt.predict(test_X)\n",
    "cm = confusion_matrix(test_y, y_pred)\n",
    "print(\"================\")\n",
    "print(\"Confusion Matrix\")\n",
    "print(\"================\")\n",
    "print(cm)"
   ]
  },
  {
   "cell_type": "code",
   "execution_count": 76,
   "metadata": {},
   "outputs": [
    {
     "name": "stdout",
     "output_type": "stream",
     "text": [
      "=======\n",
      "Reports\n",
      "=======\n",
      "              precision    recall  f1-score   support\n",
      "\n",
      "           0       0.55      0.53      0.54      1488\n",
      "           1       0.55      0.57      0.56      1512\n",
      "\n",
      "   micro avg       0.55      0.55      0.55      3000\n",
      "   macro avg       0.55      0.55      0.55      3000\n",
      "weighted avg       0.55      0.55      0.55      3000\n",
      "\n"
     ]
    }
   ],
   "source": [
    "print(\"=======\")\n",
    "print(\"Reports\")\n",
    "print(\"=======\")\n",
    "report = classification_report(test_y, y_pred)\n",
    "print(report)"
   ]
  },
  {
   "cell_type": "markdown",
   "metadata": {},
   "source": [
    "### Model 3 implementing the Naive Bayes:"
   ]
  },
  {
   "cell_type": "code",
   "execution_count": 81,
   "metadata": {},
   "outputs": [
    {
     "name": "stdout",
     "output_type": "stream",
     "text": [
      "================\n",
      "Confusion Matrix\n",
      "================\n",
      "[[ 340 1148]\n",
      " [ 192 1320]]\n"
     ]
    }
   ],
   "source": [
    "from sklearn.naive_bayes import GaussianNB\n",
    "nb_clf = GaussianNB()\n",
    "nb_clf.fit(train_X, train_y)\n",
    "# Predicting the test set\n",
    "y_pred = nb_clf.predict(test_X)\n",
    "cm = confusion_matrix(test_y, y_pred)\n",
    "print(\"================\")\n",
    "print(\"Confusion Matrix\")\n",
    "print(\"================\")\n",
    "print(cm)"
   ]
  },
  {
   "cell_type": "code",
   "execution_count": 82,
   "metadata": {},
   "outputs": [
    {
     "name": "stdout",
     "output_type": "stream",
     "text": [
      "=======\n",
      "Reports\n",
      "=======\n",
      "              precision    recall  f1-score   support\n",
      "\n",
      "           0       0.64      0.23      0.34      1488\n",
      "           1       0.53      0.87      0.66      1512\n",
      "\n",
      "   micro avg       0.55      0.55      0.55      3000\n",
      "   macro avg       0.59      0.55      0.50      3000\n",
      "weighted avg       0.59      0.55      0.50      3000\n",
      "\n"
     ]
    }
   ],
   "source": [
    "print(\"=======\")\n",
    "print(\"Reports\")\n",
    "print(\"=======\")\n",
    "report = classification_report(test_y, y_pred)\n",
    "print(report)"
   ]
  },
  {
   "cell_type": "markdown",
   "metadata": {},
   "source": [
    "## Step 5: Results Evaluation Table"
   ]
  },
  {
   "cell_type": "markdown",
   "metadata": {},
   "source": [
    "<table>\n",
    "    <thead>\n",
    "        <tr>\n",
    "            <th></th>\n",
    "            <th>KNN</th>\n",
    "            <th>NB</th>\n",
    "            <th>DT</th>\n",
    "        </tr>\n",
    "    </thead>\n",
    "    <tbody>\n",
    "        <tr>\n",
    "            <td>Accuracy</td>\n",
    "            <td>0.53</td>\n",
    "            <td>0.55</td>\n",
    "            <td>0.55</td>\n",
    "        </tr>\n",
    "        <tr>\n",
    "            <td>Weighted Precision</td>\n",
    "            <td>0.53</td>\n",
    "            <td>0.55</td>\n",
    "            <td>0.59</td>\n",
    "        </tr>\n",
    "        <tr>\n",
    "            <td>Weighted Recall</td>\n",
    "            <td>0.53</td>\n",
    "            <td>0.55</td>\n",
    "            <td>0.55</td>   \n",
    "        </tr>\n",
    "    </tbody>\n",
    "</table>"
   ]
  }
 ],
 "metadata": {
  "kernelspec": {
   "display_name": "Python 3",
   "language": "python",
   "name": "python3"
  },
  "language_info": {
   "codemirror_mode": {
    "name": "ipython",
    "version": 3
   },
   "file_extension": ".py",
   "mimetype": "text/x-python",
   "name": "python",
   "nbconvert_exporter": "python",
   "pygments_lexer": "ipython3",
   "version": "3.7.4"
  }
 },
 "nbformat": 4,
 "nbformat_minor": 2
}
